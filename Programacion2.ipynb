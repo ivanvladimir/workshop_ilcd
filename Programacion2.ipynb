{
 "cells": [
  {
   "cell_type": "markdown",
   "id": "8f4a016c-9b84-414b-903a-9d98c5c2b803",
   "metadata": {},
   "source": [
    "[![Open In Colab](https://colab.research.google.com/assets/colab-badge.svg)](https://colab.research.google.com/github/ivanvladimir/workshop_ilcd/blob/main/Programacion2.ipynb)\n",
    "[![Kaggle](https://kaggle.com/static/images/open-in-kaggle.svg)](https://kaggle.com/kernels/welcome?src=https://github.com/ivanvladimir/workshop_ilcd/blob/main/Programacion2.ipynb)\n",
    "\n",
    "# Programación en Python\n",
    "\n",
    "Esta notebook especifica a la sesión de \"Programación en python\" (parte 2) del [1er Workshop Introducción a Lingüística Computacional y Datos](https://sites.google.com/uabc.edu.mx/workshop-lingcomp/)\n",
    "\n",
    "## Instrucciones\n",
    "\n",
    "Seguir indicaciones de guía.\n",
    "\n",
    "## Licencia de la notebook\n",
    "\n",
    "<a rel=\"license\" href=\"http://creativecommons.org/licenses/by/4.0/\"><img alt=\"Creative Commons License\" style=\"border-width:0\" src=\"https://i.creativecommons.org/l/by/4.0/80x15.png\" /></a>\n",
    "</br>This work is licensed under a <a rel=\"license\" href=\"http://creativecommons.org/licenses/by/4.0/\">Creative Commons Attribution 4.0 International License</a>.\n",
    "\n",
    "## General information\n",
    "\n",
    "> **Author(s)**: <a href=\"https://bsky.app/profile/ivanvladimir.bsky.social\">@ivanvladimir</a></br>\n",
    "> **Last updated**: 3/04/2025"
   ]
  },
  {
   "cell_type": "markdown",
   "id": "d1848194-6f3b-4abc-bbe2-6b8d7e48f948",
   "metadata": {},
   "source": [
    "# 1 Conociendo el contenido del archivo\n",
    "\n",
    "Ir al siguiente link y descubrir con que archivo estaremos trabajando: https://www.gutenberg.org/cache/epub/2000/pg2000.txt"
   ]
  },
  {
   "cell_type": "markdown",
   "id": "a5ad9542-8681-453b-af1b-351e9b5c9d9f",
   "metadata": {},
   "source": [
    "# 2 Haciendo disponible el archivo a colab\n",
    "\n",
    "1. Bajar el archivo de forma local\n",
    "2. Subir el archivo usando el menú de la izquierda de colab\n",
    "3. Abrir el archivo dentro de colab, haciendo click en el nombre"
   ]
  },
  {
   "cell_type": "markdown",
   "id": "8f692b44-e6d1-4d30-af0e-bb6db1602d66",
   "metadata": {},
   "source": [
    "# 3 Leyendo el archivo y guardandolo en una variable"
   ]
  },
  {
   "cell_type": "code",
   "execution_count": null,
   "id": "ae66560f-4418-4504-8d69-f79cfc16cf01",
   "metadata": {},
   "outputs": [],
   "source": [
    "with open(\"pg2000.txt\") as file:\n",
    "    archivo=file.read()"
   ]
  },
  {
   "cell_type": "code",
   "execution_count": null,
   "id": "d2d4b761-085c-4816-9000-5094b84dac80",
   "metadata": {},
   "outputs": [],
   "source": [
    "print(\"Primeras 1000 letras\", archivo[:1000])"
   ]
  },
  {
   "cell_type": "markdown",
   "id": "8e602561-fd96-44f1-880b-08cfba63cd01",
   "metadata": {},
   "source": [
    "# 4 Procesando el archivo"
   ]
  },
  {
   "cell_type": "code",
   "execution_count": null,
   "id": "c3d628c4-000e-48b8-b87d-b527d543fc16",
   "metadata": {},
   "outputs": [],
   "source": [
    "# Leer línea por línea\n",
    "\n",
    "lineas=[]\n",
    "\n",
    "with open(\"pg2000.txt\") as file:\n",
    "    for line in file:\n",
    "        lineas.append(line.strip())\n",
    "\n",
    "print(lineas[100:105])"
   ]
  },
  {
   "cell_type": "markdown",
   "id": "539f3df7-ba73-47df-bba8-57fafed84265",
   "metadata": {},
   "source": [
    "### Ejercicio\n",
    "\n",
    "Modificar la celda anterior para eliminar líneas \"vacías\""
   ]
  },
  {
   "cell_type": "code",
   "execution_count": null,
   "id": "13cd6156-befc-48e1-b460-64d0b8fdb6e9",
   "metadata": {},
   "outputs": [],
   "source": [
    "# Leer línea por línea ignorar líneas vacias"
   ]
  },
  {
   "cell_type": "markdown",
   "id": "ddb9d59d-6155-48f0-ba9b-78a42185eaef",
   "metadata": {},
   "source": [
    "Forma alternativa de leer líneas"
   ]
  },
  {
   "cell_type": "code",
   "execution_count": null,
   "id": "d79cb30f-3a2f-4a19-9ae3-eb08e7b74072",
   "metadata": {},
   "outputs": [],
   "source": [
    "# Forma alternativa de leer líneas por líneas\n",
    "with open(\"pg2000.txt\") as file:\n",
    "    lineas=file.readlines()\n",
    "\n",
    "print(lineas[100:105])"
   ]
  },
  {
   "cell_type": "markdown",
   "id": "5dc37b88-a53a-4fb5-a87a-daebb5e37087",
   "metadata": {},
   "source": [
    "### Ejercicio\n",
    "\n",
    "Modificar el código anterior para eliminar las saltos de línea (\\n) y las líneas vacias"
   ]
  },
  {
   "cell_type": "markdown",
   "id": "3f64c7c3-c734-4d34-ab27-6c940359cc67",
   "metadata": {},
   "source": [
    "# 5 Contando el vocabulario"
   ]
  },
  {
   "cell_type": "code",
   "execution_count": null,
   "id": "312791e4-4ea7-431f-8715-121ceedf9711",
   "metadata": {},
   "outputs": [],
   "source": [
    "from collections import Counter\n",
    "vocabulario=Counter()\n",
    "\n",
    "for linea in lineas:\n",
    "    vocabulario.update(linea.split())\n",
    "\n",
    "for w,c in vocabulario.most_common(40):\n",
    "    print(f\"{w: <10}:{c}\")"
   ]
  },
  {
   "cell_type": "markdown",
   "id": "fec70ac3-4d73-4940-909d-0372bb2d31d9",
   "metadata": {},
   "source": [
    "# 6 Visualizando el vocabulario\n",
    "\n",
    "Python tiene mucho código asociado que nos permite hacer diferentes tareas. Para algunos código es necesario instalarlo, en este momento vamos a instalar la librería [plotly](https://plotly.com/python/)"
   ]
  },
  {
   "cell_type": "code",
   "execution_count": null,
   "id": "d9aa037e-fda5-49c5-8764-fc9dd92896d4",
   "metadata": {},
   "outputs": [],
   "source": [
    "!pip install plotly"
   ]
  },
  {
   "cell_type": "code",
   "execution_count": null,
   "id": "2e4952f8-4512-4684-a285-5ffbb8665726",
   "metadata": {},
   "outputs": [],
   "source": [
    "import plotly.express as px\n",
    "fig = px.bar(x=[\"a\", \"b\", \"c\"], y=[1, 3, 2])\n",
    "fig.show()"
   ]
  },
  {
   "cell_type": "code",
   "execution_count": null,
   "id": "4a693a11-ec65-4e57-be26-f178a4347389",
   "metadata": {},
   "outputs": [],
   "source": [
    "import plotly.express as px\n",
    "x=[]\n",
    "y=[]\n",
    "for w,c in vocabulario.most_common(50):\n",
    "    x.append(w)\n",
    "    y.append(c)\n",
    "fig = px.bar(x=x, y=y)\n",
    "fig.show()"
   ]
  },
  {
   "cell_type": "markdown",
   "id": "d6ec70cd-14da-4d03-9484-48daf8409865",
   "metadata": {},
   "source": [
    "# 7 Accediendo al internet"
   ]
  },
  {
   "cell_type": "code",
   "execution_count": null,
   "id": "7c1cca1a-ab41-492f-8b5a-aae3d82b82e6",
   "metadata": {},
   "outputs": [],
   "source": [
    "import requests\n",
    "\n",
    "URL=\"https://turing.iimas.unam.mx/~ivanvladimir/posts/long-short-story/\"\n",
    "\n",
    "x = requests.get(URL)\n",
    "\n",
    "print(x.text)"
   ]
  },
  {
   "cell_type": "code",
   "execution_count": null,
   "id": "23ef6feb-55e9-419b-afd1-38fb5c28c14d",
   "metadata": {},
   "outputs": [],
   "source": [
    "!pip install Newspaper3k"
   ]
  },
  {
   "cell_type": "code",
   "execution_count": null,
   "id": "1b53e134-4f96-44b9-8a93-43364a062e7a",
   "metadata": {},
   "outputs": [],
   "source": [
    "from newspaper import Article\n",
    "\n",
    "article = Article(URL)"
   ]
  },
  {
   "cell_type": "code",
   "execution_count": null,
   "id": "079cd7d3-670e-4714-a480-61d2ecd8b164",
   "metadata": {},
   "outputs": [],
   "source": [
    "article.download()\n",
    "article.parse()\n",
    "print(\"Autores:\", article.authors)"
   ]
  },
  {
   "cell_type": "code",
   "execution_count": null,
   "id": "ebaab4b0-63d2-45ab-828b-859f0a4160dd",
   "metadata": {},
   "outputs": [],
   "source": [
    "article.text"
   ]
  },
  {
   "cell_type": "code",
   "execution_count": null,
   "id": "39390f11-0d82-4fa1-9400-0c80a1e196e6",
   "metadata": {},
   "outputs": [],
   "source": [
    "def text2voca_xy(text,n=50):\n",
    "    lines=text.split(\"\\n\")\n",
    "    voca=Counter()\n",
    "    for line in lines:\n",
    "        voca.update(line.split())\n",
    "    x,y=[],[]\n",
    "    for w,c in voca.most_common(n):\n",
    "        x.append(w)\n",
    "        y.append(c)\n",
    "    return x,y"
   ]
  },
  {
   "cell_type": "code",
   "execution_count": null,
   "id": "b5cf8f56-e36c-4fcf-9442-285129e65292",
   "metadata": {},
   "outputs": [],
   "source": [
    "x,y=text2voca_xy(article.text)\n",
    "fig = px.bar(x=x, y=y)\n",
    "fig.show()"
   ]
  },
  {
   "cell_type": "code",
   "execution_count": null,
   "id": "3fbd708d-d55a-45f5-bb85-09851a3eff5a",
   "metadata": {},
   "outputs": [],
   "source": [
    "x,y=text2voca_xy(archivo,n=200)\n",
    "fig = px.bar(x=x, y=y)\n",
    "fig.show()"
   ]
  }
 ],
 "metadata": {
  "kernelspec": {
   "display_name": "Python 3 (ipykernel)",
   "language": "python",
   "name": "python3"
  },
  "language_info": {
   "codemirror_mode": {
    "name": "ipython",
    "version": 3
   },
   "file_extension": ".py",
   "mimetype": "text/x-python",
   "name": "python",
   "nbconvert_exporter": "python",
   "pygments_lexer": "ipython3",
   "version": "3.12.3"
  }
 },
 "nbformat": 4,
 "nbformat_minor": 5
}
