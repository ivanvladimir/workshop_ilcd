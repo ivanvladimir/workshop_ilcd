{
 "cells": [
  {
   "cell_type": "markdown",
   "id": "8f4a016c-9b84-414b-903a-9d98c5c2b803",
   "metadata": {},
   "source": [
    "[![Open In Colab](https://colab.research.google.com/assets/colab-badge.svg)](https://colab.research.google.com/github/ivanvladimir/workshop_ilcd/blob/main/Programacion0.ipynb)\n",
    "[![Kaggle](https://kaggle.com/static/images/open-in-kaggle.svg)](https://kaggle.com/kernels/welcome?src=https://github.com/ivanvladimir/workshop_ilcd/blob/main/Programacion0.ipynb)\n",
    "\n",
    "# Programación en Python\n",
    "\n",
    "Esta notebook especifica a la sesión de \"Programación en python\" (parte 0) del [1er WorkshopIntroducción a Lingüística Computacional y Datos](https://sites.google.com/uabc.edu.mx/workshop-lingcomp/)\n",
    "\n",
    "## Instrucciones\n",
    "\n",
    "Ejecutar las celdas en el orden propuesto.\n",
    "\n",
    "## Licencia de la notebook\n",
    "\n",
    "<a rel=\"license\" href=\"http://creativecommons.org/licenses/by/4.0/\"><img alt=\"Creative Commons License\" style=\"border-width:0\" src=\"https://i.creativecommons.org/l/by/4.0/80x15.png\" /></a>\n",
    "</br>This work is licensed under a <a rel=\"license\" href=\"http://creativecommons.org/licenses/by/4.0/\">Creative Commons Attribution 4.0 International License</a>.\n",
    "\n",
    "## General information\n",
    "\n",
    "> **Author(s)**: <a href=\"https://bsky.app/profile/ivanvladimir.bsky.social\">@ivanvladimir</a></br>\n",
    "> **Last updated**: 3/04/2025"
   ]
  },
  {
   "cell_type": "markdown",
   "id": "d1848194-6f3b-4abc-bbe2-6b8d7e48f948",
   "metadata": {},
   "source": [
    "# 1 Esta es una celda documentación, y yo soy un título\n",
    "\n",
    "Esta celda contiene documentación, no es una celda ejecutable, pero es una celda que explica el contexto de la celdas, a lo mejor da instrucciones de cómo ejecutar.\n",
    "\n",
    "Las celdas de documentación siguen un formato llamado Markdownm, para saber más ir a: [Guía rápida Markdown](https://tutorialmarkdown.com/guia)."
   ]
  },
  {
   "cell_type": "code",
   "execution_count": 2,
   "id": "e0c4344b-152c-4ce3-965f-e253df070745",
   "metadata": {},
   "outputs": [
    {
     "name": "stdout",
     "output_type": "stream",
     "text": [
      "Esta es una celda de código, para ejecutarme has click en el botón de play\n"
     ]
    }
   ],
   "source": [
    "# Yo soy una celda de código\n",
    "\n",
    "print(\"Esta es una celda de código, para ejecutarme has click en el botón de play\")"
   ]
  },
  {
   "cell_type": "markdown",
   "id": "dd908ff2-deab-4c47-8438-74619262c092",
   "metadata": {},
   "source": [
    "# Hacer la siguientes acciones\n",
    "\n",
    "1. Agregar tres celdas\n",
    "2. En la primera celda agregada, hacer de documentación y explicar el contexto\n",
    "3. En la segunda celda agregada, poner un código de `print` con un mensaje de ánimo\n",
    "4. En la tercera celda agregada, poner un código de `print` con un mensaje de despedida\n",
    "5. Ejecutar todas las celdas oprimiendo el boton de _play_\n",
    "6. Ejecutar todas las celdas usando la combinación `shift+enter`\n",
    "7. Mover la tercera celda agregada a la segunda posición, y volver a ejecutar todas las celdas.\n",
    "8. Re-iniciar el kernel.\n",
    "9. Ejecutar todas las celdas usando el menú.\n",
    "10. Crear una nueva notebook, copiar las tres celdas agregadas.\n",
    "11. Ejecutar las tres celdas."
   ]
  }
 ],
 "metadata": {
  "kernelspec": {
   "display_name": "Python 3 (ipykernel)",
   "language": "python",
   "name": "python3"
  },
  "language_info": {
   "codemirror_mode": {
    "name": "ipython",
    "version": 3
   },
   "file_extension": ".py",
   "mimetype": "text/x-python",
   "name": "python",
   "nbconvert_exporter": "python",
   "pygments_lexer": "ipython3",
   "version": "3.12.3"
  }
 },
 "nbformat": 4,
 "nbformat_minor": 5
}
